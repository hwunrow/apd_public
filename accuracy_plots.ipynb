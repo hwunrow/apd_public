{
 "cells": [
  {
   "cell_type": "code",
   "execution_count": 1,
   "id": "45e36afa",
   "metadata": {},
   "outputs": [
    {
     "name": "stderr",
     "output_type": "stream",
     "text": [
      "/opt/conda/envs/apd-env/lib/python3.6/site-packages/tqdm/auto.py:22: TqdmWarning: IProgress not found. Please update jupyter and ipywidgets. See https://ipywidgets.readthedocs.io/en/stable/user_install.html\n",
      "  from .autonotebook import tqdm as notebook_tqdm\n"
     ]
    }
   ],
   "source": [
    "import os\n",
    "import yaml\n",
    "\n",
    "import numpy as np\n",
    "import pandas as pd\n",
    "import matplotlib.pyplot as plt\n",
    "\n",
    "import torch\n",
    "import torchvision\n",
    "import torchvision.transforms as transforms\n",
    "from torch.utils.data.sampler import SubsetRandomSampler\n",
    "\n",
    "import utils\n",
    "from model.fc import *\n"
   ]
  },
  {
   "cell_type": "markdown",
   "id": "5c1e5444",
   "metadata": {},
   "source": [
    "### Utils"
   ]
  },
  {
   "cell_type": "code",
   "execution_count": 2,
   "id": "dec7acbe",
   "metadata": {},
   "outputs": [],
   "source": [
    "def test_accuracy_by_category(model, testloader):\n",
    "    correct = [0 for c in range(10)]\n",
    "    total = [0 for c in range(10)]\n",
    "    for i, data in enumerate(testloader, 0):\n",
    "        test_inputs, test_labels = data\n",
    "        test_inputs, test_labels = utils.cuda((test_inputs, test_labels), arguments)\n",
    "        with torch.no_grad():\n",
    "            test_inputs, test_labels = Variable(test_inputs), Variable(test_labels)\n",
    "        preds = model.forward(test_inputs).argmax(axis=1)\n",
    "\n",
    "        for c in range(10):\n",
    "            correct[c] += sum((preds == test_labels) * (test_labels == c)).float()\n",
    "            total[c] += sum(test_labels == c)\n",
    "\n",
    "    acc = []\n",
    "    for c in range(10):\n",
    "        acc.append(correct[c].cpu().numpy() / total[c].cpu().numpy())\n",
    "    \n",
    "    return(acc)"
   ]
  },
  {
   "cell_type": "code",
   "execution_count": 3,
   "id": "34b068e4",
   "metadata": {},
   "outputs": [],
   "source": [
    "# def ce_loss_by_category(model, testloader):\n",
    "#     loss = nn.CrossEntropyLoss()\n",
    "#     ce_list = []\n",
    "#     for i, data in enumerate(mnist_testloader, 0):\n",
    "#         test_inputs, test_labels = data\n",
    "#         test_inputs, test_labels = utils.cuda((test_inputs, test_labels), arguments)\n",
    "#         with torch.no_grad():\n",
    "#             test_inputs, test_labels = Variable(test_inputs), Variable(test_labels)\n",
    "#         preds = model.forward(test_inputs)\n",
    "#         ce_list.append(loss(preds, test_labels).cpu().detach().numpy())\n",
    "    \n",
    "#     return(ce_list)"
   ]
  },
  {
   "cell_type": "code",
   "execution_count": 4,
   "id": "3b8040b2",
   "metadata": {},
   "outputs": [],
   "source": [
    "def svhn_test_accuracy_by_category(model, testloader):\n",
    "    correct = [0 for c in range(10)]\n",
    "    total = [0 for c in range(10)]\n",
    "    for i, data in enumerate(testloader, 0):\n",
    "        test_inputs, test_labels = data\n",
    "        test_inputs, test_labels = utils.cuda((test_inputs, test_labels), arguments)\n",
    "        test_inputs = torch.mean(test_inputs, 1)\n",
    "        with torch.no_grad():\n",
    "            test_inputs, test_labels = Variable(test_inputs), Variable(test_labels)\n",
    "        preds = model.forward(test_inputs).argmax(axis=1)\n",
    "\n",
    "        for c in range(10):\n",
    "            correct[c] += sum((preds == test_labels) * (test_labels == c)).float()\n",
    "            total[c] += sum(test_labels == c)\n",
    "\n",
    "    acc = []\n",
    "    for c in range(10):\n",
    "        acc.append(correct[c].cpu().numpy() / total[c].cpu().numpy())\n",
    "        \n",
    "    return(acc)"
   ]
  },
  {
   "cell_type": "markdown",
   "id": "fabef9c7",
   "metadata": {},
   "source": [
    "### Get Test Data"
   ]
  },
  {
   "cell_type": "code",
   "execution_count": 5,
   "id": "b7ce18d3",
   "metadata": {},
   "outputs": [],
   "source": [
    "batch_size = 100\n",
    "\n",
    "transform = transforms.Compose([\n",
    "            transforms.ToTensor(),\n",
    "            transforms.Normalize((0.5,), (0.5,))\n",
    "#             transforms.Normalize((0.5, 0.5, 0.5), (0.5, 0.5, 0.5))\n",
    "        ])\n",
    "mnist_testset = torchvision.datasets.MNIST(root='./data', train=False, download=True, transform=transform)\n",
    "mnist_testloader = torch.utils.data.DataLoader(mnist_testset, batch_size=batch_size, shuffle=False, num_workers=2)"
   ]
  },
  {
   "cell_type": "code",
   "execution_count": 6,
   "id": "28d4aaa3",
   "metadata": {},
   "outputs": [
    {
     "name": "stderr",
     "output_type": "stream",
     "text": [
      "/opt/conda/envs/apd-env/lib/python3.6/site-packages/torchvision/transforms/transforms.py:208: UserWarning: The use of the transforms.Scale transform is deprecated, please use transforms.Resize instead.\n",
      "  \"please use transforms.Resize instead.\")\n"
     ]
    },
    {
     "name": "stdout",
     "output_type": "stream",
     "text": [
      "Using downloaded and verified file: ./data/test_32x32.mat\n"
     ]
    }
   ],
   "source": [
    "svhn_transform = transforms.Compose([\n",
    "    transforms.Scale(28),\n",
    "    transforms.ToTensor(),\n",
    "    transforms.Normalize((0.5,), (0.5,))])\n",
    "svhn_testset = torchvision.datasets.SVHN(root='./data', split='test', download=True, transform=svhn_transform)\n",
    "svhn_testloader = torch.utils.data.DataLoader(svhn_testset, batch_size=batch_size, shuffle=False, num_workers=2)\n"
   ]
  },
  {
   "cell_type": "markdown",
   "id": "40af0d07",
   "metadata": {},
   "source": [
    "### SGLD"
   ]
  },
  {
   "cell_type": "code",
   "execution_count": 7,
   "id": "79518682",
   "metadata": {},
   "outputs": [],
   "source": [
    "# MNIST\n",
    "exp_name = 'fc1-mnist-100-X-sgld-mnist-1-1-X-mnist-50000@2022-12-17'\n",
    "\n",
    "model_config = yaml.safe_load(open(os.path.join('saves', exp_name, 'fc1-mnist-100.yaml'), 'rb'))\n",
    "model = eval(model_config['name'])(**model_config['kwargs'])\n",
    "arguments = None\n",
    "model = utils.cuda(model, arguments)\n",
    "\n",
    "best_model_state_dict = torch.load(os.path.join('saves', exp_name, 'best_point_model.th'))\n",
    "model.load_state_dict(best_model_state_dict)\n",
    "\n",
    "sgld_mnist_accuracy = test_accuracy_by_category(model, mnist_testloader)"
   ]
  },
  {
   "cell_type": "code",
   "execution_count": 8,
   "id": "a1ab1e59",
   "metadata": {},
   "outputs": [],
   "source": [
    "# SVHN\n",
    "exp_name = 'fc1-svhn-100-X-sgld-svhn-1-1-X-svhn-50000@2022-12-19'\n",
    "\n",
    "model_config = yaml.safe_load(open(os.path.join('saves', exp_name, 'fc1-svhn-100.yaml'), 'rb'))\n",
    "model = eval(model_config['name'])(**model_config['kwargs'])\n",
    "arguments = None\n",
    "model = utils.cuda(model, arguments)\n",
    "\n",
    "best_model_state_dict = torch.load(os.path.join('saves', exp_name, 'best_point_model.th'))\n",
    "model.load_state_dict(best_model_state_dict)\n",
    "\n",
    "sgld_svhn_accuracy = svhn_test_accuracy_by_category(model, svhn_testloader)"
   ]
  },
  {
   "cell_type": "markdown",
   "id": "e6a18ca5",
   "metadata": {},
   "source": [
    "### APD"
   ]
  },
  {
   "cell_type": "code",
   "execution_count": 9,
   "id": "5f7a3573",
   "metadata": {},
   "outputs": [],
   "source": [
    "# MNIST\n",
    "exp_name = 'mnist-wgan-gp-1000-100-5'\n",
    "gan_mnist_accuracy = np.load(os.path.join('gan_exps', exp_name, 'gan_accuracy.npy'))\n",
    "real_mnist_accuracy = np.load(os.path.join('gan_exps', exp_name, 'real_accuracy.npy'))"
   ]
  },
  {
   "cell_type": "code",
   "execution_count": 10,
   "id": "59d29dbf",
   "metadata": {},
   "outputs": [],
   "source": [
    "# SVHN\n",
    "exp_name = 'svhn-wgan-gp-1000-100-5'\n",
    "gan_svhn_accuracy = np.load(os.path.join('gan_exps', exp_name, 'gan_accuracy.npy'))\n",
    "real_svhn_accuracy = np.load(os.path.join('gan_exps', exp_name, 'real_accuracy.npy'))"
   ]
  },
  {
   "cell_type": "markdown",
   "id": "450e0d9d",
   "metadata": {},
   "source": [
    "### MC Dropout"
   ]
  },
  {
   "cell_type": "code",
   "execution_count": 11,
   "id": "d43cf2fa",
   "metadata": {},
   "outputs": [],
   "source": [
    "# MNIST\n",
    "exp_name = 'fc1-mnist-100-drop-50-X-sgd-mnist-X-mnist-50000@2022-12-18'\n",
    "\n",
    "model_config = yaml.safe_load(open(os.path.join('saves', exp_name, 'fc1-mnist-100-drop-50.yaml'), 'rb'))\n",
    "model = eval(model_config['name'])(**model_config['kwargs'])\n",
    "arguments = None\n",
    "model = utils.cuda(model, arguments)\n",
    "\n",
    "best_model_state_dict = torch.load(os.path.join('saves', exp_name, 'best_point_model.th'))\n",
    "model.load_state_dict(best_model_state_dict)\n",
    "\n",
    "mc_mnist_accuracy = test_accuracy_by_category(model, mnist_testloader)"
   ]
  },
  {
   "cell_type": "code",
   "execution_count": 12,
   "id": "345bb596",
   "metadata": {},
   "outputs": [],
   "source": [
    "# SVHN\n",
    "exp_name = 'fc1-svhn-100-drop-50-X-sgd-svhn-X-svhn-50000@2022-12-19'\n",
    "\n",
    "model_config = yaml.safe_load(open(os.path.join('saves', exp_name, 'fc1-svhn-100-drop-50.yaml'), 'rb'))\n",
    "model = eval(model_config['name'])(**model_config['kwargs'])\n",
    "arguments = None\n",
    "model = utils.cuda(model, arguments)\n",
    "\n",
    "best_model_state_dict = torch.load(os.path.join('saves', exp_name, 'best_point_model.th'))\n",
    "model.load_state_dict(best_model_state_dict)\n",
    "\n",
    "mc_svhn_accuracy = svhn_test_accuracy_by_category(model, svhn_testloader)"
   ]
  },
  {
   "cell_type": "markdown",
   "id": "59745686",
   "metadata": {},
   "source": [
    "### Deterministic"
   ]
  },
  {
   "cell_type": "code",
   "execution_count": 13,
   "id": "d10ad10c",
   "metadata": {},
   "outputs": [],
   "source": [
    "mnist_df = pd.read_csv('saves/deterministic/MNIST.csv')"
   ]
  },
  {
   "cell_type": "code",
   "execution_count": 14,
   "id": "488e0002",
   "metadata": {},
   "outputs": [],
   "source": [
    "svhn_df = pd.read_csv('saves/deterministic/SVHN.csv')"
   ]
  },
  {
   "cell_type": "markdown",
   "id": "fdf05b76",
   "metadata": {},
   "source": [
    "## Plots"
   ]
  },
  {
   "cell_type": "code",
   "execution_count": 15,
   "id": "0e6dd612",
   "metadata": {},
   "outputs": [],
   "source": [
    "mnist_df['sgld_acc'] = sgld_mnist_accuracy\n",
    "mnist_df['apd_acc'] = gan_mnist_accuracy\n",
    "mnist_df['mc_acc'] = mc_mnist_accuracy"
   ]
  },
  {
   "cell_type": "code",
   "execution_count": 41,
   "id": "3dc0c3e3",
   "metadata": {},
   "outputs": [
    {
     "data": {
      "text/html": [
       "<div>\n",
       "<style scoped>\n",
       "    .dataframe tbody tr th:only-of-type {\n",
       "        vertical-align: middle;\n",
       "    }\n",
       "\n",
       "    .dataframe tbody tr th {\n",
       "        vertical-align: top;\n",
       "    }\n",
       "\n",
       "    .dataframe thead th {\n",
       "        text-align: right;\n",
       "    }\n",
       "</style>\n",
       "<table border=\"1\" class=\"dataframe\">\n",
       "  <thead>\n",
       "    <tr style=\"text-align: right;\">\n",
       "      <th></th>\n",
       "      <th>teacher_loss</th>\n",
       "      <th>teacher_acc</th>\n",
       "      <th>student_kd_loss</th>\n",
       "      <th>student_kd_acc</th>\n",
       "      <th>student_no_kd_loss</th>\n",
       "      <th>student_no_kd_acc</th>\n",
       "      <th>sgld_acc</th>\n",
       "      <th>apd_acc</th>\n",
       "      <th>mc_acc</th>\n",
       "    </tr>\n",
       "  </thead>\n",
       "  <tbody>\n",
       "    <tr>\n",
       "      <th>0</th>\n",
       "      <td>0.050336</td>\n",
       "      <td>0.9837</td>\n",
       "      <td>0.203816</td>\n",
       "      <td>0.9652</td>\n",
       "      <td>0.125644</td>\n",
       "      <td>0.9613</td>\n",
       "      <td>0.988571</td>\n",
       "      <td>0.985665</td>\n",
       "      <td>0.991633</td>\n",
       "    </tr>\n",
       "    <tr>\n",
       "      <th>1</th>\n",
       "      <td>0.037320</td>\n",
       "      <td>0.9873</td>\n",
       "      <td>0.140226</td>\n",
       "      <td>0.9724</td>\n",
       "      <td>0.102836</td>\n",
       "      <td>0.9714</td>\n",
       "      <td>0.987665</td>\n",
       "      <td>0.979181</td>\n",
       "      <td>0.990617</td>\n",
       "    </tr>\n",
       "    <tr>\n",
       "      <th>2</th>\n",
       "      <td>0.034810</td>\n",
       "      <td>0.9884</td>\n",
       "      <td>0.102437</td>\n",
       "      <td>0.9805</td>\n",
       "      <td>0.091386</td>\n",
       "      <td>0.9762</td>\n",
       "      <td>0.953488</td>\n",
       "      <td>0.949204</td>\n",
       "      <td>0.960233</td>\n",
       "    </tr>\n",
       "    <tr>\n",
       "      <th>3</th>\n",
       "      <td>0.034956</td>\n",
       "      <td>0.9884</td>\n",
       "      <td>0.102811</td>\n",
       "      <td>0.9795</td>\n",
       "      <td>0.098996</td>\n",
       "      <td>0.9762</td>\n",
       "      <td>0.956436</td>\n",
       "      <td>0.955318</td>\n",
       "      <td>0.965644</td>\n",
       "    </tr>\n",
       "    <tr>\n",
       "      <th>4</th>\n",
       "      <td>0.033665</td>\n",
       "      <td>0.9889</td>\n",
       "      <td>0.089748</td>\n",
       "      <td>0.9825</td>\n",
       "      <td>0.092973</td>\n",
       "      <td>0.9773</td>\n",
       "      <td>0.963340</td>\n",
       "      <td>0.959011</td>\n",
       "      <td>0.966212</td>\n",
       "    </tr>\n",
       "    <tr>\n",
       "      <th>5</th>\n",
       "      <td>0.032613</td>\n",
       "      <td>0.9907</td>\n",
       "      <td>0.073199</td>\n",
       "      <td>0.9842</td>\n",
       "      <td>0.106625</td>\n",
       "      <td>0.9775</td>\n",
       "      <td>0.950673</td>\n",
       "      <td>0.918127</td>\n",
       "      <td>0.958251</td>\n",
       "    </tr>\n",
       "    <tr>\n",
       "      <th>6</th>\n",
       "      <td>0.034780</td>\n",
       "      <td>0.9899</td>\n",
       "      <td>0.076513</td>\n",
       "      <td>0.9838</td>\n",
       "      <td>0.105950</td>\n",
       "      <td>0.9782</td>\n",
       "      <td>0.961378</td>\n",
       "      <td>0.956211</td>\n",
       "      <td>0.969729</td>\n",
       "    </tr>\n",
       "    <tr>\n",
       "      <th>7</th>\n",
       "      <td>0.030717</td>\n",
       "      <td>0.9905</td>\n",
       "      <td>0.089310</td>\n",
       "      <td>0.9824</td>\n",
       "      <td>0.111876</td>\n",
       "      <td>0.9777</td>\n",
       "      <td>0.965953</td>\n",
       "      <td>0.931081</td>\n",
       "      <td>0.972335</td>\n",
       "    </tr>\n",
       "    <tr>\n",
       "      <th>8</th>\n",
       "      <td>0.030025</td>\n",
       "      <td>0.9912</td>\n",
       "      <td>0.076228</td>\n",
       "      <td>0.9846</td>\n",
       "      <td>0.110385</td>\n",
       "      <td>0.9773</td>\n",
       "      <td>0.953799</td>\n",
       "      <td>0.945830</td>\n",
       "      <td>0.961478</td>\n",
       "    </tr>\n",
       "    <tr>\n",
       "      <th>9</th>\n",
       "      <td>0.034736</td>\n",
       "      <td>0.9920</td>\n",
       "      <td>0.075781</td>\n",
       "      <td>0.9839</td>\n",
       "      <td>0.111420</td>\n",
       "      <td>0.9811</td>\n",
       "      <td>0.922785</td>\n",
       "      <td>0.922234</td>\n",
       "      <td>0.937562</td>\n",
       "    </tr>\n",
       "  </tbody>\n",
       "</table>\n",
       "</div>"
      ],
      "text/plain": [
       "   teacher_loss  teacher_acc  student_kd_loss  student_kd_acc  \\\n",
       "0      0.050336       0.9837         0.203816          0.9652   \n",
       "1      0.037320       0.9873         0.140226          0.9724   \n",
       "2      0.034810       0.9884         0.102437          0.9805   \n",
       "3      0.034956       0.9884         0.102811          0.9795   \n",
       "4      0.033665       0.9889         0.089748          0.9825   \n",
       "5      0.032613       0.9907         0.073199          0.9842   \n",
       "6      0.034780       0.9899         0.076513          0.9838   \n",
       "7      0.030717       0.9905         0.089310          0.9824   \n",
       "8      0.030025       0.9912         0.076228          0.9846   \n",
       "9      0.034736       0.9920         0.075781          0.9839   \n",
       "\n",
       "   student_no_kd_loss  student_no_kd_acc  sgld_acc   apd_acc    mc_acc  \n",
       "0            0.125644             0.9613  0.988571  0.985665  0.991633  \n",
       "1            0.102836             0.9714  0.987665  0.979181  0.990617  \n",
       "2            0.091386             0.9762  0.953488  0.949204  0.960233  \n",
       "3            0.098996             0.9762  0.956436  0.955318  0.965644  \n",
       "4            0.092973             0.9773  0.963340  0.959011  0.966212  \n",
       "5            0.106625             0.9775  0.950673  0.918127  0.958251  \n",
       "6            0.105950             0.9782  0.961378  0.956211  0.969729  \n",
       "7            0.111876             0.9777  0.965953  0.931081  0.972335  \n",
       "8            0.110385             0.9773  0.953799  0.945830  0.961478  \n",
       "9            0.111420             0.9811  0.922785  0.922234  0.937562  "
      ]
     },
     "execution_count": 41,
     "metadata": {},
     "output_type": "execute_result"
    }
   ],
   "source": [
    "mnist_df"
   ]
  },
  {
   "cell_type": "code",
   "execution_count": 42,
   "id": "dfef2270",
   "metadata": {},
   "outputs": [
    {
     "data": {
      "text/plain": [
       "teacher_loss          0.035396\n",
       "teacher_acc           0.989100\n",
       "student_kd_loss       0.103007\n",
       "student_kd_acc        0.979900\n",
       "student_no_kd_loss    0.105809\n",
       "student_no_kd_acc     0.975420\n",
       "sgld_acc              0.960409\n",
       "apd_acc               0.950186\n",
       "mc_acc                0.967369\n",
       "dtype: float64"
      ]
     },
     "execution_count": 42,
     "metadata": {},
     "output_type": "execute_result"
    }
   ],
   "source": [
    "mnist_df.mean()"
   ]
  },
  {
   "cell_type": "code",
   "execution_count": 45,
   "id": "27bf069b",
   "metadata": {},
   "outputs": [
    {
     "data": {
      "text/plain": [
       "0.9199999999999875"
      ]
     },
     "execution_count": 45,
     "metadata": {},
     "output_type": "execute_result"
    }
   ],
   "source": [
    "(np.mean(mnist_df['teacher_acc']) - np.mean(mnist_df['student_kd_acc']))*100"
   ]
  },
  {
   "cell_type": "code",
   "execution_count": 46,
   "id": "7a945cf6",
   "metadata": {},
   "outputs": [
    {
     "data": {
      "text/plain": [
       "1.0222664104616364"
      ]
     },
     "execution_count": 46,
     "metadata": {},
     "output_type": "execute_result"
    }
   ],
   "source": [
    "(np.mean(mnist_df['sgld_acc']) - np.mean(mnist_df['apd_acc']))* 100"
   ]
  },
  {
   "cell_type": "code",
   "execution_count": 26,
   "id": "45717a2d",
   "metadata": {},
   "outputs": [
    {
     "data": {
      "image/png": "[encoded data removed]",
      "text/plain": [
       "<Figure size 1080x432 with 1 Axes>"
      ]
     },
     "metadata": {
      "needs_background": "light"
     },
     "output_type": "display_data"
    }
   ],
   "source": [
    "labels = ['0','1','2','3','4','5','6','7','8','9']\n",
    "\n",
    "x = np.arange(10)\n",
    "width = 0.12  # the width of the bars\n",
    "\n",
    "fig = plt.figure(figsize=(15,6))\n",
    "plt.bar(x - 2*width, mnist_df['mc_acc'], width, label='MC Dropout (baseline)')\n",
    "plt.bar(x - width, mnist_df['sgld_acc'], width, label='SGLD (teacher)')\n",
    "plt.bar(x, mnist_df['apd_acc'], width, label='APD (student)')\n",
    "plt.bar(x + width, mnist_df['teacher_acc'], width, label='Deterministic (teacher)')\n",
    "plt.bar(x + width*2, mnist_df['student_kd_acc'], width, label='Deterministic (student)')\n",
    "plt.bar(x + width*3, mnist_df['student_no_kd_acc'], width, label='Deterministic no KD (student) ')\n",
    "\n",
    "# Add some text for labels, title and custom x-axis tick labels, etc.\n",
    "plt.ylabel('Accuracy')\n",
    "plt.ylabel('Category')\n",
    "plt.title('MNIST Accuracy')\n",
    "plt.xticks(x)\n",
    "plt.ylim([0.9, 1])\n",
    "plt.legend(bbox_to_anchor=(1.1, 1.05))\n",
    "\n",
    "fig.tight_layout()\n",
    "\n",
    "plt.show()"
   ]
  },
  {
   "cell_type": "code",
   "execution_count": 27,
   "id": "57ba644e",
   "metadata": {},
   "outputs": [],
   "source": [
    "svhn_df['sgld_acc'] = sgld_svhn_accuracy\n",
    "svhn_df['apd_acc'] = gan_svhn_accuracy\n",
    "svhn_df['mc_acc'] = mc_svhn_accuracy"
   ]
  },
  {
   "cell_type": "code",
   "execution_count": 47,
   "id": "3260a987",
   "metadata": {},
   "outputs": [
    {
     "data": {
      "text/plain": [
       "teacher_loss          0.492893\n",
       "teacher_acc           0.860433\n",
       "student_kd_loss       1.872445\n",
       "student_kd_acc        0.558574\n",
       "student_no_kd_loss    2.020110\n",
       "student_no_kd_acc     0.262696\n",
       "sgld_acc              0.756214\n",
       "apd_acc               0.423630\n",
       "mc_acc                0.813047\n",
       "dtype: float64"
      ]
     },
     "execution_count": 47,
     "metadata": {},
     "output_type": "execute_result"
    }
   ],
   "source": [
    "svhn_df.mean()"
   ]
  },
  {
   "cell_type": "code",
   "execution_count": 48,
   "id": "d1cdc33f",
   "metadata": {},
   "outputs": [
    {
     "data": {
      "text/plain": [
       "30.185925030000003"
      ]
     },
     "execution_count": 48,
     "metadata": {},
     "output_type": "execute_result"
    }
   ],
   "source": [
    "(np.mean(svhn_df['teacher_acc']) - np.mean(svhn_df['student_kd_acc']))*100"
   ]
  },
  {
   "cell_type": "code",
   "execution_count": 49,
   "id": "d1403e9b",
   "metadata": {},
   "outputs": [
    {
     "data": {
      "text/plain": [
       "33.258337210004015"
      ]
     },
     "execution_count": 49,
     "metadata": {},
     "output_type": "execute_result"
    }
   ],
   "source": [
    "(np.mean(svhn_df['sgld_acc']) - np.mean(svhn_df['apd_acc']))* 100"
   ]
  },
  {
   "cell_type": "code",
   "execution_count": 34,
   "id": "6964b85c",
   "metadata": {},
   "outputs": [
    {
     "data": {
      "image/png": "[encoded data removed]",
      "text/plain": [
       "<Figure size 1080x432 with 1 Axes>"
      ]
     },
     "metadata": {
      "needs_background": "light"
     },
     "output_type": "display_data"
    }
   ],
   "source": [
    "labels = ['0','1','2','3','4','5','6','7','8','9']\n",
    "\n",
    "x = np.arange(10)\n",
    "width = 0.12  # the width of the bars\n",
    "\n",
    "fig = plt.figure(figsize=(15,6))\n",
    "plt.bar(x - 2*width, svhn_df['mc_acc'], width, label='MC Dropout (baseline)')\n",
    "plt.bar(x - width, svhn_df['sgld_acc'], width, label='SGLD (teacher)')\n",
    "plt.bar(x, svhn_df['apd_acc'], width, label='APD (student)')\n",
    "plt.bar(x + width, svhn_df['teacher_acc'], width, label='Deterministic (teacher)')\n",
    "plt.bar(x + width*2, svhn_df['student_kd_acc'], width, label='Deterministic (student)')\n",
    "plt.bar(x + width*3, svhn_df['student_no_kd_acc'], width, label='Deterministic no KD (student) ')\n",
    "\n",
    "# Add some text for labels, title and custom x-axis tick labels, etc.\n",
    "plt.ylabel('Accuracy')\n",
    "plt.ylabel('Category')\n",
    "plt.title('SVHN Accuracy')\n",
    "plt.xticks(x)\n",
    "plt.ylim([0, 1])\n",
    "plt.legend(bbox_to_anchor=(1.1, 1.05))\n",
    "\n",
    "fig.tight_layout()\n",
    "\n",
    "plt.show()"
   ]
  },
  {
   "cell_type": "code",
   "execution_count": null,
   "id": "8c907ff1",
   "metadata": {},
   "outputs": [],
   "source": []
  }
 ],
 "metadata": {
  "kernelspec": {
   "display_name": "Python 3",
   "language": "python",
   "name": "python3"
  },
  "language_info": {
   "codemirror_mode": {
    "name": "ipython",
    "version": 3
   },
   "file_extension": ".py",
   "mimetype": "text/x-python",
   "name": "python",
   "nbconvert_exporter": "python",
   "pygments_lexer": "ipython3",
   "version": "3.6.15"
  }
 },
 "nbformat": 4,
 "nbformat_minor": 5
}
